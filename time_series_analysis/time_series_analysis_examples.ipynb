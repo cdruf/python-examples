{
 "cells": [
  {
   "cell_type": "markdown",
   "source": [
    "# Time series analysis\n",
    "\n",
    "[Datacamp](https://campus.datacamp.com/courses/time-series-analysis-in-python).\n",
    "\n"
   ],
   "metadata": {
    "collapsed": false
   }
  },
  {
   "cell_type": "code",
   "execution_count": 12,
   "metadata": {
    "collapsed": true,
    "ExecuteTime": {
     "end_time": "2023-08-25T04:23:35.543103Z",
     "start_time": "2023-08-25T04:23:35.539332Z"
    }
   },
   "outputs": [],
   "source": [
    "import matplotlib.pyplot as plt\n",
    "import numpy as np\n",
    "import pandas as pd\n",
    "import statsmodels.api as sm\n",
    "from scipy import stats"
   ]
  },
  {
   "cell_type": "code",
   "execution_count": 2,
   "outputs": [
    {
     "data": {
      "text/plain": "                    SP500  US10Y\nobservation_date                \n2007-06-11        1509.12   5.14\n2007-06-12        1493.00   5.26\n2007-06-13        1515.67   5.20\n2007-06-14        1522.97   5.23\n2007-06-15        1532.91   5.16",
      "text/html": "<div>\n<style scoped>\n    .dataframe tbody tr th:only-of-type {\n        vertical-align: middle;\n    }\n\n    .dataframe tbody tr th {\n        vertical-align: top;\n    }\n\n    .dataframe thead th {\n        text-align: right;\n    }\n</style>\n<table border=\"1\" class=\"dataframe\">\n  <thead>\n    <tr style=\"text-align: right;\">\n      <th></th>\n      <th>SP500</th>\n      <th>US10Y</th>\n    </tr>\n    <tr>\n      <th>observation_date</th>\n      <th></th>\n      <th></th>\n    </tr>\n  </thead>\n  <tbody>\n    <tr>\n      <th>2007-06-11</th>\n      <td>1509.12</td>\n      <td>5.14</td>\n    </tr>\n    <tr>\n      <th>2007-06-12</th>\n      <td>1493.00</td>\n      <td>5.26</td>\n    </tr>\n    <tr>\n      <th>2007-06-13</th>\n      <td>1515.67</td>\n      <td>5.20</td>\n    </tr>\n    <tr>\n      <th>2007-06-14</th>\n      <td>1522.97</td>\n      <td>5.23</td>\n    </tr>\n    <tr>\n      <th>2007-06-15</th>\n      <td>1532.91</td>\n      <td>5.16</td>\n    </tr>\n  </tbody>\n</table>\n</div>"
     },
     "execution_count": 2,
     "metadata": {},
     "output_type": "execute_result"
    }
   ],
   "source": [
    "stocks_and_bonds = pd.read_csv('../data/stocks_and_bonds.csv')\n",
    "stocks_and_bonds.set_index('observation_date', inplace=True)\n",
    "stocks_and_bonds.index = pd.to_datetime(stocks_and_bonds.index)\n",
    "stocks_and_bonds.head()"
   ],
   "metadata": {
    "collapsed": false,
    "ExecuteTime": {
     "end_time": "2023-08-25T03:56:58.789947Z",
     "start_time": "2023-08-25T03:56:58.762209Z"
    }
   }
  },
  {
   "cell_type": "code",
   "execution_count": 3,
   "outputs": [
    {
     "data": {
      "text/plain": "                     SP500     US10Y\nobservation_date                    \n2007-06-11             NaN       NaN\n2007-06-12       -0.010682  0.023346\n2007-06-13        0.015184 -0.011407\n2007-06-14        0.004816  0.005769\n2007-06-15        0.006527 -0.013384",
      "text/html": "<div>\n<style scoped>\n    .dataframe tbody tr th:only-of-type {\n        vertical-align: middle;\n    }\n\n    .dataframe tbody tr th {\n        vertical-align: top;\n    }\n\n    .dataframe thead th {\n        text-align: right;\n    }\n</style>\n<table border=\"1\" class=\"dataframe\">\n  <thead>\n    <tr style=\"text-align: right;\">\n      <th></th>\n      <th>SP500</th>\n      <th>US10Y</th>\n    </tr>\n    <tr>\n      <th>observation_date</th>\n      <th></th>\n      <th></th>\n    </tr>\n  </thead>\n  <tbody>\n    <tr>\n      <th>2007-06-11</th>\n      <td>NaN</td>\n      <td>NaN</td>\n    </tr>\n    <tr>\n      <th>2007-06-12</th>\n      <td>-0.010682</td>\n      <td>0.023346</td>\n    </tr>\n    <tr>\n      <th>2007-06-13</th>\n      <td>0.015184</td>\n      <td>-0.011407</td>\n    </tr>\n    <tr>\n      <th>2007-06-14</th>\n      <td>0.004816</td>\n      <td>0.005769</td>\n    </tr>\n    <tr>\n      <th>2007-06-15</th>\n      <td>0.006527</td>\n      <td>-0.013384</td>\n    </tr>\n  </tbody>\n</table>\n</div>"
     },
     "execution_count": 3,
     "metadata": {},
     "output_type": "execute_result"
    }
   ],
   "source": [
    "returns = stocks_and_bonds.pct_change()\n",
    "returns.head()"
   ],
   "metadata": {
    "collapsed": false,
    "ExecuteTime": {
     "end_time": "2023-08-25T03:57:04.799802Z",
     "start_time": "2023-08-25T03:57:04.785462Z"
    }
   }
  },
  {
   "cell_type": "code",
   "execution_count": 4,
   "outputs": [
    {
     "name": "stdout",
     "output_type": "stream",
     "text": [
      "Correlation of stocks and interest rates:            SP500     US10Y\n",
      "SP500  1.000000  0.411945\n",
      "US10Y  0.411945  1.000000\n"
     ]
    }
   ],
   "source": [
    "correlation = returns.corr()\n",
    "print(\"Correlation of stocks and interest rates: \", correlation)"
   ],
   "metadata": {
    "collapsed": false,
    "ExecuteTime": {
     "end_time": "2023-08-25T03:57:26.715107Z",
     "start_time": "2023-08-25T03:57:26.705734Z"
    }
   }
  },
  {
   "cell_type": "code",
   "execution_count": 5,
   "outputs": [
    {
     "data": {
      "text/plain": "<Figure size 640x480 with 1 Axes>",
      "image/png": "[encoded data removed]"
     },
     "metadata": {},
     "output_type": "display_data"
    }
   ],
   "source": [
    "plt.scatter(returns['SP500'], returns['US10Y'])\n",
    "plt.xlim(-0.2, 0.2)\n",
    "plt.ylim(-0.2, 0.2)\n",
    "plt.show()"
   ],
   "metadata": {
    "collapsed": false,
    "ExecuteTime": {
     "end_time": "2023-08-25T03:57:35.313712Z",
     "start_time": "2023-08-25T03:57:35.177341Z"
    }
   }
  },
  {
   "cell_type": "markdown",
   "source": [
    "# Linear regression"
   ],
   "metadata": {
    "collapsed": false
   }
  },
  {
   "cell_type": "code",
   "execution_count": 7,
   "outputs": [
    {
     "data": {
      "text/plain": "          x         y\n0  1.281155 -0.835129\n1 -0.612631 -0.061004\n2  0.933222 -0.194677\n3  2.269327 -2.461142\n4 -1.427691  1.040073",
      "text/html": "<div>\n<style scoped>\n    .dataframe tbody tr th:only-of-type {\n        vertical-align: middle;\n    }\n\n    .dataframe tbody tr th {\n        vertical-align: top;\n    }\n\n    .dataframe thead th {\n        text-align: right;\n    }\n</style>\n<table border=\"1\" class=\"dataframe\">\n  <thead>\n    <tr style=\"text-align: right;\">\n      <th></th>\n      <th>x</th>\n      <th>y</th>\n    </tr>\n  </thead>\n  <tbody>\n    <tr>\n      <th>0</th>\n      <td>1.281155</td>\n      <td>-0.835129</td>\n    </tr>\n    <tr>\n      <th>1</th>\n      <td>-0.612631</td>\n      <td>-0.061004</td>\n    </tr>\n    <tr>\n      <th>2</th>\n      <td>0.933222</td>\n      <td>-0.194677</td>\n    </tr>\n    <tr>\n      <th>3</th>\n      <td>2.269327</td>\n      <td>-2.461142</td>\n    </tr>\n    <tr>\n      <th>4</th>\n      <td>-1.427691</td>\n      <td>1.040073</td>\n    </tr>\n  </tbody>\n</table>\n</div>"
     },
     "execution_count": 7,
     "metadata": {},
     "output_type": "execute_result"
    }
   ],
   "source": [
    "df = pd.read_csv('../data/regression_example_data.csv')\n",
    "df.head()"
   ],
   "metadata": {
    "collapsed": false,
    "ExecuteTime": {
     "end_time": "2023-08-25T04:22:48.775481Z",
     "start_time": "2023-08-25T04:22:48.768534Z"
    }
   }
  },
  {
   "cell_type": "code",
   "execution_count": 0,
   "outputs": [],
   "source": [
    "x = df['x']\n",
    "y = df['y']"
   ],
   "metadata": {
    "collapsed": false
   }
  },
  {
   "cell_type": "code",
   "execution_count": 22,
   "outputs": [
    {
     "name": "stdout",
     "output_type": "stream",
     "text": [
      "const   -0.005248\n",
      "x       -0.907995\n",
      "dtype: float64\n",
      "                            OLS Regression Results                            \n",
      "==============================================================================\n",
      "Dep. Variable:                      y   R-squared:                       0.818\n",
      "Model:                            OLS   Adj. R-squared:                  0.817\n",
      "Method:                 Least Squares   F-statistic:                     4471.\n",
      "Date:                Thu, 24 Aug 2023   Prob (F-statistic):               0.00\n",
      "Time:                        22:29:25   Log-Likelihood:                -560.10\n",
      "No. Observations:                1000   AIC:                             1124.\n",
      "Df Residuals:                     998   BIC:                             1134.\n",
      "Df Model:                           1                                         \n",
      "Covariance Type:            nonrobust                                         \n",
      "==============================================================================\n",
      "                 coef    std err          t      P>|t|      [0.025      0.975]\n",
      "------------------------------------------------------------------------------\n",
      "const         -0.0052      0.013     -0.391      0.696      -0.032       0.021\n",
      "x             -0.9080      0.014    -66.869      0.000      -0.935      -0.881\n",
      "==============================================================================\n",
      "Omnibus:                        0.048   Durbin-Watson:                   2.066\n",
      "Prob(Omnibus):                  0.976   Jarque-Bera (JB):                0.103\n",
      "Skew:                          -0.003   Prob(JB):                        0.950\n",
      "Kurtosis:                       2.951   Cond. No.                         1.03\n",
      "==============================================================================\n",
      "\n",
      "Notes:\n",
      "[1] Standard Errors assume that the covariance matrix of the errors is correctly specified.\n"
     ]
    }
   ],
   "source": [
    "df1 = sm.add_constant(df['x'].to_frame())\n",
    "mdl = sm.OLS(y, df1).fit()\n",
    "print(mdl.params)\n",
    "print(mdl.summary())"
   ],
   "metadata": {
    "collapsed": false,
    "ExecuteTime": {
     "end_time": "2023-08-25T04:29:25.169465Z",
     "start_time": "2023-08-25T04:29:25.159327Z"
    }
   }
  },
  {
   "cell_type": "code",
   "execution_count": 17,
   "outputs": [
    {
     "data": {
      "text/plain": "array([-0.90799455, -0.00524843])"
     },
     "execution_count": 17,
     "metadata": {},
     "output_type": "execute_result"
    }
   ],
   "source": [
    "np.polyfit(x, y, deg=1)"
   ],
   "metadata": {
    "collapsed": false,
    "ExecuteTime": {
     "end_time": "2023-08-25T04:25:25.637313Z",
     "start_time": "2023-08-25T04:25:25.629392Z"
    }
   }
  },
  {
   "cell_type": "code",
   "execution_count": 27,
   "outputs": [
    {
     "name": "stdout",
     "output_type": "stream",
     "text": [
      "LinregressResult(slope=-0.9079945467703991, intercept=-0.005248433747844342, rvalue=-0.9041749130497254, pvalue=0.0, stderr=0.01357871106000873, intercept_stderr=0.013413804850284882)\n"
     ]
    }
   ],
   "source": [
    "mdl = stats.linregress(x, y)\n",
    "print(mdl)"
   ],
   "metadata": {
    "collapsed": false,
    "ExecuteTime": {
     "end_time": "2023-08-25T04:30:35.108325Z",
     "start_time": "2023-08-25T04:30:35.105419Z"
    }
   }
  },
  {
   "cell_type": "markdown",
   "source": [
    "# Autocorrelation"
   ],
   "metadata": {
    "collapsed": false
   }
  },
  {
   "cell_type": "code",
   "execution_count": 39,
   "outputs": [
    {
     "data": {
      "text/plain": "observation_date\n2007-06-11    1509.12\n2007-06-12    1493.00\n2007-06-13    1515.67\n2007-06-14    1522.97\n2007-06-15    1532.91\nName: SP500, dtype: float64"
     },
     "execution_count": 39,
     "metadata": {},
     "output_type": "execute_result"
    }
   ],
   "source": [
    "df = pd.read_csv('../data/stocks_and_bonds.csv')\n",
    "df.set_index('observation_date', inplace=True)\n",
    "df.index = pd.to_datetime(df.index)\n",
    "sp500 = df['SP500']\n",
    "sp500.head()"
   ],
   "metadata": {
    "collapsed": false,
    "ExecuteTime": {
     "end_time": "2023-08-25T04:41:18.711588Z",
     "start_time": "2023-08-25T04:41:18.698346Z"
    }
   }
  },
  {
   "cell_type": "code",
   "execution_count": 42,
   "outputs": [
    {
     "data": {
      "text/plain": "observation_date\n2007-06-30         NaN\n2007-07-31   -0.031982\n2007-08-31    0.012864\n2007-09-30    0.035794\n2007-10-31    0.014822\nFreq: M, Name: SP500, dtype: float64"
     },
     "execution_count": 42,
     "metadata": {},
     "output_type": "execute_result"
    }
   ],
   "source": [
    "sp500_monthly = sp500.resample(rule='M').last()\n",
    "sp500_monthly = sp500_monthly.pct_change()\n",
    "sp500_monthly.head()"
   ],
   "metadata": {
    "collapsed": false,
    "ExecuteTime": {
     "end_time": "2023-08-25T04:42:57.237096Z",
     "start_time": "2023-08-25T04:42:57.233730Z"
    }
   }
  },
  {
   "cell_type": "code",
   "execution_count": 44,
   "outputs": [
    {
     "data": {
      "text/plain": "0.15437392286678955"
     },
     "execution_count": 44,
     "metadata": {},
     "output_type": "execute_result"
    }
   ],
   "source": [
    "autocorrelation = sp500_monthly.autocorr()  # lag 1\n",
    "autocorrelation"
   ],
   "metadata": {
    "collapsed": false,
    "ExecuteTime": {
     "end_time": "2023-08-25T04:43:38.474458Z",
     "start_time": "2023-08-25T04:43:38.468904Z"
    }
   }
  },
  {
   "cell_type": "code",
   "execution_count": null,
   "outputs": [],
   "source": [],
   "metadata": {
    "collapsed": false
   }
  }
 ],
 "metadata": {
  "kernelspec": {
   "display_name": "Python 3",
   "language": "python",
   "name": "python3"
  },
  "language_info": {
   "codemirror_mode": {
    "name": "ipython",
    "version": 2
   },
   "file_extension": ".py",
   "mimetype": "text/x-python",
   "name": "python",
   "nbconvert_exporter": "python",
   "pygments_lexer": "ipython2",
   "version": "2.7.6"
  }
 },
 "nbformat": 4,
 "nbformat_minor": 0
}
