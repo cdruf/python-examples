{
 "cells": [
  {
   "cell_type": "markdown",
   "source": [
    "# Time series analysis\n",
    "\n",
    "[Datacamp](https://campus.datacamp.com/courses/time-series-analysis-in-python).\n",
    "\n"
   ],
   "metadata": {
    "collapsed": false
   }
  },
  {
   "cell_type": "code",
   "execution_count": 22,
   "metadata": {
    "collapsed": true,
    "ExecuteTime": {
     "end_time": "2023-09-02T00:16:59.763021Z",
     "start_time": "2023-09-02T00:16:59.754008Z"
    }
   },
   "source": [
    "import math\n",
    "\n",
    "import matplotlib.pyplot as plt\n",
    "import numpy as np\n",
    "import pandas as pd\n",
    "import statsmodels.api as sm\n",
    "from scipy import stats\n"
   ],
   "outputs": []
  },
  {
   "cell_type": "code",
   "execution_count": 2,
   "source": [
    "stocks_and_bonds = pd.read_csv('../data/stocks_and_bonds.csv')\n",
    "stocks_and_bonds.set_index('observation_date', inplace=True)\n",
    "stocks_and_bonds.index = pd.to_datetime(stocks_and_bonds.index)\n",
    "stocks_and_bonds.head()"
   ],
   "metadata": {
    "collapsed": false,
    "ExecuteTime": {
     "end_time": "2023-09-01T23:55:26.669030Z",
     "start_time": "2023-09-01T23:55:26.653719Z"
    }
   },
   "outputs": []
  },
  {
   "cell_type": "code",
   "execution_count": 3,
   "source": [
    "series = stocks_and_bonds.pct_change()\n",
    "series.head()"
   ],
   "metadata": {
    "collapsed": false,
    "ExecuteTime": {
     "end_time": "2023-09-01T23:55:26.676552Z",
     "start_time": "2023-09-01T23:55:26.668436Z"
    }
   },
   "outputs": []
  },
  {
   "cell_type": "code",
   "execution_count": 4,
   "source": [
    "correlation = series.corr()\n",
    "print(\"Correlation of stocks and interest rates: \", correlation)"
   ],
   "metadata": {
    "collapsed": false,
    "ExecuteTime": {
     "end_time": "2023-09-01T23:55:26.684194Z",
     "start_time": "2023-09-01T23:55:26.674364Z"
    }
   },
   "outputs": []
  },
  {
   "cell_type": "code",
   "execution_count": 5,
   "source": [
    "plt.scatter(series['SP500'], series['US10Y'])\n",
    "plt.xlim(-0.2, 0.2)\n",
    "plt.ylim(-0.2, 0.2)\n",
    "plt.show()"
   ],
   "metadata": {
    "collapsed": false,
    "ExecuteTime": {
     "end_time": "2023-09-01T23:55:26.816138Z",
     "start_time": "2023-09-01T23:55:26.679229Z"
    }
   },
   "outputs": []
  },
  {
   "cell_type": "markdown",
   "source": [
    "# Linear regression"
   ],
   "metadata": {
    "collapsed": false
   }
  },
  {
   "cell_type": "code",
   "execution_count": 6,
   "source": [
    "df = pd.read_csv('../data/regression_example_data.csv')\n",
    "df.head()"
   ],
   "metadata": {
    "collapsed": false,
    "ExecuteTime": {
     "end_time": "2023-09-01T23:55:26.816960Z",
     "start_time": "2023-09-01T23:55:26.775254Z"
    }
   },
   "outputs": []
  },
  {
   "cell_type": "code",
   "execution_count": 7,
   "source": [
    "x = df['x']\n",
    "y = df['y']"
   ],
   "metadata": {
    "collapsed": false,
    "ExecuteTime": {
     "end_time": "2023-09-01T23:55:26.817057Z",
     "start_time": "2023-09-01T23:55:26.783370Z"
    }
   },
   "outputs": []
  },
  {
   "cell_type": "code",
   "execution_count": 8,
   "source": [
    "df1 = sm.add_constant(df['x'].to_frame())\n",
    "mdl = sm.OLS(y, df1).fit()\n",
    "print(mdl.params)\n",
    "print(mdl.summary())"
   ],
   "metadata": {
    "collapsed": false,
    "ExecuteTime": {
     "end_time": "2023-09-01T23:55:26.817567Z",
     "start_time": "2023-09-01T23:55:26.794726Z"
    }
   },
   "outputs": []
  },
  {
   "cell_type": "code",
   "execution_count": 9,
   "source": [
    "np.polyfit(x, y, deg=1)"
   ],
   "metadata": {
    "collapsed": false,
    "ExecuteTime": {
     "end_time": "2023-09-01T23:55:27.015914Z",
     "start_time": "2023-09-01T23:55:26.958661Z"
    }
   },
   "outputs": []
  },
  {
   "cell_type": "code",
   "execution_count": 10,
   "source": [
    "mdl = stats.linregress(x, y)\n",
    "print(mdl)"
   ],
   "metadata": {
    "collapsed": false,
    "ExecuteTime": {
     "end_time": "2023-09-01T23:55:27.483807Z",
     "start_time": "2023-09-01T23:55:27.481082Z"
    }
   },
   "outputs": []
  },
  {
   "cell_type": "markdown",
   "source": [
    "# Autocorrelation"
   ],
   "metadata": {
    "collapsed": false
   }
  },
  {
   "cell_type": "code",
   "execution_count": 11,
   "source": [
    "df = pd.read_csv('../data/stocks_and_bonds.csv')\n",
    "df.set_index('observation_date', inplace=True)\n",
    "df.index = pd.to_datetime(df.index)\n",
    "sp500 = df['SP500']\n",
    "sp500.head()"
   ],
   "metadata": {
    "collapsed": false,
    "ExecuteTime": {
     "end_time": "2023-09-01T23:55:28.308184Z",
     "start_time": "2023-09-01T23:55:28.301716Z"
    }
   },
   "outputs": []
  },
  {
   "cell_type": "code",
   "execution_count": 12,
   "source": [
    "sp500_monthly = sp500.resample(rule='M').last()\n",
    "sp500_monthly = sp500_monthly.pct_change()\n",
    "sp500_monthly.head()"
   ],
   "metadata": {
    "collapsed": false,
    "ExecuteTime": {
     "end_time": "2023-09-01T23:55:32.095017Z",
     "start_time": "2023-09-01T23:55:32.082639Z"
    }
   },
   "outputs": []
  },
  {
   "cell_type": "code",
   "execution_count": 13,
   "source": [
    "auto_correlation = sp500_monthly.autocorr()  # lag 1\n",
    "auto_correlation"
   ],
   "metadata": {
    "collapsed": false,
    "ExecuteTime": {
     "end_time": "2023-09-01T23:55:32.845881Z",
     "start_time": "2023-09-01T23:55:32.842309Z"
    }
   },
   "outputs": []
  },
  {
   "cell_type": "markdown",
   "source": [
    " # Autocorrelation function (ACF)"
   ],
   "metadata": {
    "collapsed": false
   }
  },
  {
   "cell_type": "code",
   "execution_count": 18,
   "source": [
    "from statsmodels.tsa.stattools import acf\n",
    "from statsmodels.graphics.tsaplots import plot_acf\n",
    "\n",
    "df = pd.read_csv('../data/earnings_timeseries.csv')\n",
    "df.set_index('Date', inplace=True)\n",
    "df.index = pd.to_datetime(df.index)\n",
    "df.head()"
   ],
   "metadata": {
    "collapsed": false,
    "ExecuteTime": {
     "end_time": "2023-09-02T00:05:35.461738Z",
     "start_time": "2023-09-02T00:05:35.452560Z"
    }
   },
   "outputs": []
  },
  {
   "cell_type": "code",
   "execution_count": 19,
   "source": [
    "# Compute the ACF array of HRB\n",
    "acf_array = acf(df)\n",
    "print(acf_array)\n",
    "\n",
    "# Plot the ACF function\n",
    "plot_acf(df, alpha=1)\n",
    "plt.show()"
   ],
   "metadata": {
    "collapsed": false,
    "ExecuteTime": {
     "end_time": "2023-09-02T00:08:15.848881Z",
     "start_time": "2023-09-02T00:08:15.755988Z"
    }
   },
   "outputs": []
  },
  {
   "cell_type": "markdown",
   "source": [
    "## Confidence intervals"
   ],
   "metadata": {
    "collapsed": false
   }
  },
  {
   "cell_type": "code",
   "execution_count": 25,
   "source": [
    "auto_correlation = df['Earnings'].autocorr()  # lag = 1\n",
    "print(\"The auto-correlation for lag = 1 is %4.2f\" % auto_correlation)\n",
    "\n",
    "# Compute the approximate confidence interval\n",
    "# 95% of a normal curve is between +1.96 and -1.96 standard deviations from the mean\n",
    "n_obs = len(df)\n",
    "conf = 1.96 / math.sqrt(n_obs)\n",
    "print(\"The approximate confidence interval for lag = 1 is +/- %4.2f\" % conf)\n",
    "\n",
    "# Plot the auto-correlation function with 95% confidence intervals and 20 lags using plot_acf\n",
    "plot_acf(df['Earnings'], alpha=0.05, lags=20)\n",
    "plt.show()"
   ],
   "metadata": {
    "collapsed": false,
    "ExecuteTime": {
     "end_time": "2023-09-02T00:18:31.433934Z",
     "start_time": "2023-09-02T00:18:31.375471Z"
    }
   },
   "outputs": []
  },
  {
   "cell_type": "markdown",
   "source": [
    "# White noise\n",
    "\n",
    "\n",
    "* Definition (one viable one)\n",
    "    * Constant mean,\n",
    "    * Constant variance, \n",
    "    * Zero auto-correlation at all lags.\n",
    "* Normal distribution => Gaussian white noise.\n",
    "* Stock returns are often modeled as white noise."
   ],
   "metadata": {
    "collapsed": false
   }
  },
  {
   "cell_type": "code",
   "execution_count": 27,
   "source": [
    "# Generate white noise series\n",
    "series = np.random.normal(loc=0.02, scale=0.05, size=1000)\n",
    "mean = np.mean(series)\n",
    "std = np.std(series)\n",
    "print(\"The mean is %5.3f and the standard deviation is %5.3f\" % (mean, std))\n",
    "plt.plot(series)\n",
    "plt.show()"
   ],
   "metadata": {
    "collapsed": false,
    "ExecuteTime": {
     "end_time": "2023-09-02T00:27:12.460942Z",
     "start_time": "2023-09-02T00:27:12.405415Z"
    }
   },
   "outputs": []
  },
  {
   "cell_type": "code",
   "execution_count": 28,
   "source": [
    "# Plot auto-correlation function of white noise returns\n",
    "plot_acf(series, lags=20)\n",
    "plt.show()"
   ],
   "metadata": {
    "collapsed": false,
    "ExecuteTime": {
     "end_time": "2023-09-02T00:27:18.460476Z",
     "start_time": "2023-09-02T00:27:18.341899Z"
    }
   },
   "outputs": []
  },
  {
   "cell_type": "markdown",
   "source": [
    "# Random walk\n",
    "\n",
    "* Today's price = yesterday's price + noise.\n",
    "* More theory in LyX. "
   ],
   "metadata": {
    "collapsed": false
   }
  },
  {
   "cell_type": "markdown",
   "source": [
    "## Random walk - stock example"
   ],
   "metadata": {
    "collapsed": false
   }
  },
  {
   "cell_type": "code",
   "execution_count": 29,
   "source": [
    "# Generate 500 random steps\n",
    "steps = np.random.normal(loc=0, scale=1, size=500)\n",
    "steps[0] = 0  # Set first step to 0\n",
    "\n",
    "# Generate stock prices, P with a starting price of 100\n",
    "P = 100 + np.cumsum(steps)\n",
    "\n",
    "# Plot the simulated stock prices\n",
    "plt.plot(P)\n",
    "plt.title(\"Simulated Random Walk\")\n",
    "plt.show()"
   ],
   "metadata": {
    "collapsed": false,
    "ExecuteTime": {
     "end_time": "2023-09-02T00:41:11.533691Z",
     "start_time": "2023-09-02T00:41:11.477523Z"
    }
   },
   "outputs": []
  },
  {
   "cell_type": "markdown",
   "source": [
    "## Random walk with drift"
   ],
   "metadata": {
    "collapsed": false
   }
  },
  {
   "cell_type": "code",
   "execution_count": 30,
   "source": [
    "# Generate 500 random steps\n",
    "steps = np.random.normal(loc=0.001, scale=0.01, size=500) + 1\n",
    "steps[0] = 1  # Set 1st element to neutral\n",
    "\n",
    "# Simulate the stock price, P\n",
    "P = 100 * np.cumprod(steps)\n",
    "\n",
    "# Plot the simulated stock prices\n",
    "plt.plot(P)\n",
    "plt.title(\"Simulated Random Walk with Drift\")\n",
    "plt.show()"
   ],
   "metadata": {
    "collapsed": false,
    "ExecuteTime": {
     "end_time": "2023-09-02T00:43:33.824575Z",
     "start_time": "2023-09-02T00:43:33.748651Z"
    }
   },
   "outputs": []
  },
  {
   "cell_type": "code",
   "execution_count": 35,
   "source": [
    "from statsmodels.tsa.stattools import adfuller  # Augmented Dickey-Fuller (ADF) test for random walk\n",
    "\n",
    "# ADF test \n",
    "results = adfuller(df['Earnings'])\n",
    "print(f'The p-value of the test on prices is {results[1] * 100:.1f} %')"
   ],
   "metadata": {
    "collapsed": false,
    "ExecuteTime": {
     "end_time": "2023-09-02T00:48:51.205830Z",
     "start_time": "2023-09-02T00:48:51.196303Z"
    }
   },
   "outputs": []
  },
  {
   "cell_type": "markdown",
   "source": [
    "# Stationarity"
   ],
   "metadata": {
    "collapsed": false
   }
  },
  {
   "cell_type": "code",
   "execution_count": null,
   "source": [],
   "metadata": {
    "collapsed": false
   },
   "outputs": []
  }
 ],
 "metadata": {
  "kernelspec": {
   "display_name": "Python 3",
   "language": "python",
   "name": "python3"
  },
  "language_info": {
   "codemirror_mode": {
    "name": "ipython",
    "version": 2
   },
   "file_extension": ".py",
   "mimetype": "text/x-python",
   "name": "python",
   "nbconvert_exporter": "python",
   "pygments_lexer": "ipython2",
   "version": "2.7.6"
  }
 },
 "nbformat": 4,
 "nbformat_minor": 0
}
