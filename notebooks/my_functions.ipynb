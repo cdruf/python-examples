{
 "cells": [
  {
   "cell_type": "code",
   "metadata": {
    "ExecuteTime": {
     "end_time": "2024-09-16T20:52:50.769761Z",
     "start_time": "2024-09-16T20:52:50.117329Z"
    }
   },
   "source": [
    "\n",
    "import pandas as pd"
   ],
   "outputs": [],
   "execution_count": 1
  },
  {
   "cell_type": "markdown",
   "metadata": {},
   "source": [
    "### Synchronized function"
   ]
  },
  {
   "cell_type": "code",
   "execution_count": 14,
   "metadata": {},
   "source": [
    "import threading\n",
    "import time\n",
    "\n",
    "lock = threading.Lock()\n",
    "\n",
    "\n",
    "def synchronized():\n",
    "    lock.acquire()\n",
    "    time.sleep(3)  # 10 secs\n",
    "    print(datetime.now().time())\n",
    "    lock.release()\n",
    "\n",
    "\n",
    "t1 = threading.Thread(target=synchronized)\n",
    "t2 = threading.Thread(target=synchronized)\n",
    "\n",
    "t1.start()\n",
    "t2.start()\n",
    "\n"
   ],
   "outputs": []
  },
  {
   "cell_type": "markdown",
   "metadata": {},
   "source": [
    "# OOP"
   ]
  },
  {
   "cell_type": "markdown",
   "metadata": {},
   "source": [
    "### Static"
   ]
  },
  {
   "cell_type": "code",
   "execution_count": 8,
   "metadata": {},
   "source": [
    "class A:\n",
    "    static_field = \"a\"\n",
    "\n",
    "    @classmethod\n",
    "    def static_fkt(cls):\n",
    "        print(cls.static_field)\n",
    "        cls.static_field += \"a\"\n",
    "        print(cls.static_field)\n",
    "\n",
    "\n",
    "A.static_fkt()"
   ],
   "outputs": []
  },
  {
   "cell_type": "markdown",
   "metadata": {},
   "source": [
    "### Factory method\n",
    "\n",
    "Mehr hier: https://iscinumpy.gitlab.io/post/factory-classmethods-in-python/"
   ]
  },
  {
   "cell_type": "code",
   "execution_count": 11,
   "metadata": {},
   "source": [
    "class A(object):  # inherits from object\n",
    "\n",
    "    @classmethod\n",
    "    def get_new_inst(cls, x):\n",
    "        return cls(x)\n",
    "\n",
    "    def __init__(self, x):\n",
    "        self.x = x\n",
    "\n",
    "    def __str__(self):\n",
    "        return 'A[x=%s]' % self.x\n",
    "\n",
    "\n",
    "print(A.get_new_inst(1))\n"
   ],
   "outputs": []
  },
  {
   "cell_type": "markdown",
   "metadata": {},
   "source": [
    "### Inheritance"
   ]
  },
  {
   "cell_type": "code",
   "execution_count": 21,
   "metadata": {},
   "source": [
    "class A:\n",
    "\n",
    "    def __init__(self, a):\n",
    "        self.a = a\n",
    "\n",
    "    def say_hi(self):\n",
    "        print('hi')\n",
    "\n",
    "\n",
    "class B(A):\n",
    "\n",
    "    def __init__(self, a, b):\n",
    "        super().__init__(a)\n",
    "        self.b = b\n",
    "\n",
    "    def call_super_method(self):\n",
    "        super().say_hi()\n",
    "        self.say_hi()\n",
    "\n",
    "    def set_super_attr(self):\n",
    "        self.a = 3\n",
    "        # NOT: super().a = 3\n",
    "\n",
    "    def __str__(self):\n",
    "        return 'B [%s, %s]' % (self.a, self.b)\n",
    "\n",
    "\n",
    "b = B(1, 2)\n",
    "print(b)\n",
    "b.call_super_method()\n",
    "b.set_super_attr()\n",
    "print(b)"
   ],
   "outputs": []
  },
  {
   "cell_type": "code",
   "execution_count": 13,
   "metadata": {},
   "source": [
    "if hasattr(b, 'a'):\n",
    "    print('b has the property a, value = %s' % b.a)"
   ],
   "outputs": []
  },
  {
   "cell_type": "code",
   "execution_count": 16,
   "metadata": {},
   "source": [
    "if isinstance(b, A):\n",
    "    print('b is an A')\n",
    "\n",
    "a = A(3)\n",
    "if not isinstance(a, B):\n",
    "    print('a is not a B')\n"
   ],
   "outputs": []
  },
  {
   "cell_type": "code",
   "execution_count": 4,
   "metadata": {},
   "source": [
    "class A:\n",
    "    def __init__(self):\n",
    "        self.lst = [1, 2, 3, 4]\n",
    "\n",
    "    def __iter__(self):\n",
    "        return iter(self.lst)\n",
    "\n",
    "\n",
    "a = A()\n",
    "for i in a:\n",
    "    print(i)\n"
   ],
   "outputs": []
  },
  {
   "cell_type": "markdown",
   "metadata": {},
   "source": [
    "# Random"
   ]
  },
  {
   "cell_type": "code",
   "execution_count": null,
   "metadata": {},
   "source": [
    "\n",
    "import numpy as np\n",
    "\n",
    "\n",
    "def random_date(start, end, n=1):\n",
    "    \"\"\" Generate a random datetime between start and end (exclusive) \"\"\"\n",
    "    start = datetime.strptime(start, '%Y-%m-%d')\n",
    "    end = datetime.strptime(end, '%Y-%m-%d')\n",
    "    if n == 1:\n",
    "        return start + timedelta(days=np.random.randint(0, int((end - start).days)))\n",
    "    return [start + timedelta(days=np.random.randint(0, int((end - start).days))) for i in range(n)]\n",
    "\n",
    "\n",
    "random_date('2019-01-01', '2019-01-03', n=2)"
   ],
   "outputs": []
  },
  {
   "cell_type": "markdown",
   "metadata": {},
   "source": [
    "# Data"
   ]
  },
  {
   "cell_type": "code",
   "execution_count": 6,
   "metadata": {},
   "source": [
    "df = pd.DataFrame({'col 1': [1, 3, 4, 5, 6, 7, 8],\n",
    "                   'col 2': [4, 5, 6, 7, 8, 9, 0]})\n",
    "df.head()"
   ],
   "outputs": []
  },
  {
   "cell_type": "code",
   "execution_count": 10,
   "metadata": {},
   "source": [
    "df = pd.DataFrame({'col 1': np.array([1, 3, 4, 5, 6, 7, 8]),\n",
    "                   'col 2': np.array([4, 5, 6, 7, 8, 9, 0])})\n",
    "df.head()"
   ],
   "outputs": []
  },
  {
   "cell_type": "code",
   "execution_count": 11,
   "metadata": {},
   "source": [
    "# Column by position\n",
    "df.iloc[:, 0]"
   ],
   "outputs": []
  },
  {
   "cell_type": "code",
   "execution_count": 14,
   "metadata": {},
   "source": [
    "df = pd.DataFrame({'Year': [21, 21, 19, 19, 20, 20], 'Month': [6, 1, 6, 1, 6, 1]})\n",
    "df.sort_values(['Year', 'Month'], inplace=True)\n",
    "df.head(10)"
   ],
   "outputs": []
  },
  {
   "cell_type": "markdown",
   "metadata": {},
   "source": [
    "## Conditions & filter"
   ]
  },
  {
   "cell_type": "code",
   "execution_count": 16,
   "metadata": {},
   "source": [
    "import numpy as np\n",
    "import pandas as pd\n",
    "\n",
    "df = pd.DataFrame({'Day': [1, 2, 3, 4, 5] * 2, 'Key': [1, 1, 1, 1, np.nan, 2, 2, 2, 2, np.nan]})\n",
    "df.head(10)"
   ],
   "outputs": []
  },
  {
   "cell_type": "markdown",
   "metadata": {},
   "source": [
    "Filter out some days for the key 2"
   ]
  },
  {
   "cell_type": "code",
   "execution_count": 17,
   "metadata": {},
   "source": "df[(df['Key'] != 2) | (~df['Day'].isin([1, 2, 3]))]",
   "outputs": []
  },
  {
   "cell_type": "markdown",
   "metadata": {},
   "source": [
    "Drop NaN's"
   ]
  },
  {
   "cell_type": "code",
   "execution_count": 20,
   "metadata": {},
   "source": [
    "df.dropna()"
   ],
   "outputs": []
  },
  {
   "cell_type": "raw",
   "metadata": {},
   "source": [
    "Drop rows with certain values"
   ]
  },
  {
   "cell_type": "code",
   "execution_count": 22,
   "metadata": {},
   "source": [
    "df[df.Key != 1.0]"
   ],
   "outputs": []
  },
  {
   "cell_type": "markdown",
   "metadata": {},
   "source": [
    "## Write to Excel"
   ]
  },
  {
   "cell_type": "markdown",
   "metadata": {},
   "source": [
    "### openpyxl\n",
    "\n",
    "Does strange changes to the file. "
   ]
  },
  {
   "cell_type": "code",
   "execution_count": 3,
   "metadata": {},
   "source": [
    "import pandas as pd\n",
    "import os.path\n",
    "from openpyxl import load_workbook\n",
    "\n",
    "\n",
    "def create_or_append_to_excel_sheet(df, path, sheet_name):\n",
    "    if not os.path.isfile(path):\n",
    "        print('create new file')\n",
    "        df.to_excel(path, sheet_name=sheet_name, startrow=0, index=False)\n",
    "        return\n",
    "    print('append to existing file')\n",
    "    # TODO: check if sheet exists\n",
    "    existing_data = pd.read_excel(path, sheet_name=sheet_name)\n",
    "    last_row_num = existing_data.iloc[:, 0].shape[0]\n",
    "    writer = pd.ExcelWriter(path, engine='openpyxl')\n",
    "    book = load_workbook(path)\n",
    "    writer.book = book\n",
    "    writer.sheets = dict((ws.title, ws) for ws in book.worksheets)\n",
    "    df.to_excel(writer, sheet_name, header=False, startrow=last_row_num + 1, index=False)\n",
    "    writer.save()\n",
    "    writer.close()\n",
    "\n",
    "\n",
    "df = pd.DataFrame({'a': [1, 2, 3, 4], 'b': [4, 5, 6, 7]})\n",
    "path = './test.xlsx'\n",
    "sheet_name = 'Sheet 1'\n",
    "\n",
    "create_or_append_to_excel_sheet(df, path, sheet_name)"
   ],
   "outputs": []
  },
  {
   "cell_type": "code",
   "execution_count": 4,
   "metadata": {},
   "source": [
    "pwd"
   ],
   "outputs": []
  },
  {
   "cell_type": "markdown",
   "metadata": {},
   "source": [
    "This somehow corrupts the excel file, so that next time when reading data from it with pandas, it tries to read formulas instead of values, which become Nan-s."
   ]
  },
  {
   "cell_type": "markdown",
   "metadata": {},
   "source": [
    "# Dates"
   ]
  },
  {
   "cell_type": "code",
   "execution_count": 7,
   "metadata": {},
   "source": [
    "from datetime import datetime, time, timedelta\n",
    "\n",
    "dt = datetime.strptime('2010-10-01 12:12', '%Y-%m-%d %H:%M')\n",
    "datetime.strftime(dt, '%Y-%m-%d %H:%M')"
   ],
   "outputs": []
  },
  {
   "cell_type": "code",
   "execution_count": 8,
   "metadata": {},
   "source": [
    "import humanize\n",
    "\n",
    "delta = timedelta(hours=-500)\n",
    "print(str(delta))\n",
    "print(humanize.naturaltime(delta))\n"
   ],
   "outputs": []
  },
  {
   "cell_type": "code",
   "execution_count": 17,
   "metadata": {},
   "source": [
    "import math\n",
    "\n",
    "a = 2.5\n",
    "time_ = time(hour=math.floor(a), minute=round((a - math.floor(a)) * 60))\n",
    "print(time_)"
   ],
   "outputs": []
  },
  {
   "cell_type": "code",
   "execution_count": 20,
   "metadata": {},
   "source": [
    "import pandas as pd\n",
    "\n",
    "t = pd.Timestamp('2013-12-25 00:01:01')\n",
    "print(t, type(t))\n",
    "\n",
    "d = t.date()\n",
    "print(d, type(d))\n",
    "dt = t.to_pydatetime()\n",
    "print(dt, type(dt))"
   ],
   "outputs": []
  },
  {
   "cell_type": "markdown",
   "metadata": {},
   "source": [
    "# Profiling"
   ]
  },
  {
   "cell_type": "code",
   "execution_count": 3,
   "metadata": {},
   "source": [
    "import gc\n",
    "import sys\n",
    "import _pickle as cPickle\n",
    "\n",
    "\n",
    "def memory_dump():\n",
    "    with open(\"memory.pickle\", 'wb') as dump:\n",
    "        xs = []\n",
    "        for obj in gc.get_objects():\n",
    "            i = id(obj)\n",
    "            size = sys.getsizeof(obj, 0)\n",
    "            #    referrers = [id(o) for o in gc.get_referrers(obj) if hasattr(o, '__class__')]\n",
    "            referents = [id(o) for o in gc.get_referents(obj) if hasattr(o, '__class__')]\n",
    "            if hasattr(obj, '__class__'):\n",
    "                cls = str(obj.__class__)\n",
    "                xs.append({'id': i, 'class': cls, 'size': size, 'referents': referents})\n",
    "        cPickle.dump(xs, dump)\n",
    "\n",
    "\n",
    "memory_dump()"
   ],
   "outputs": []
  },
  {
   "cell_type": "code",
   "execution_count": 8,
   "metadata": {},
   "source": [
    "with open(\"memory.pickle\", 'rb') as dump:\n",
    "    objs = cPickle.load(dump)\n",
    "for i in objs[0:10]:\n",
    "    print(i)"
   ],
   "outputs": []
  }
 ],
 "metadata": {
  "kernelspec": {
   "display_name": "Python 3",
   "language": "python",
   "name": "python3"
  },
  "language_info": {
   "codemirror_mode": {
    "name": "ipython",
    "version": 3
   },
   "file_extension": ".py",
   "mimetype": "text/x-python",
   "name": "python",
   "nbconvert_exporter": "python",
   "pygments_lexer": "ipython3",
   "version": "3.7.9"
  },
  "toc-autonumbering": true
 },
 "nbformat": 4,
 "nbformat_minor": 4
}
