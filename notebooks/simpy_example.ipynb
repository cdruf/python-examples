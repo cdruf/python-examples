{
 "cells": [
  {
   "cell_type": "markdown",
   "metadata": {},
   "source": [
    "# Imports"
   ]
  },
  {
   "cell_type": "code",
   "metadata": {
    "ExecuteTime": {
     "end_time": "2024-08-08T19:35:37.683039Z",
     "start_time": "2024-08-08T19:35:37.678455Z"
    }
   },
   "source": [
    "from collections import defaultdict\n",
    "from dataclasses import dataclass\n",
    "from enum import Enum\n",
    "from queue import PriorityQueue\n",
    "\n",
    "import numpy as np\n",
    "import pandas as pd\n",
    "import simpy"
   ],
   "outputs": [],
   "execution_count": 29
  },
  {
   "cell_type": "markdown",
   "metadata": {},
   "source": [
    "# Yield\n",
    "\n",
    "Simpy uses **yield** for creating processes.\n",
    "\n",
    "**yield** returns the next element of a generator."
   ]
  },
  {
   "cell_type": "code",
   "metadata": {
    "ExecuteTime": {
     "end_time": "2024-08-08T19:14:03.974448Z",
     "start_time": "2024-08-08T19:14:03.972016Z"
    }
   },
   "source": [
    "def create_generator():\n",
    "    for i in range(3):\n",
    "        yield i\n",
    "\n",
    "\n",
    "for i in create_generator():\n",
    "    print(i)"
   ],
   "outputs": [
    {
     "name": "stdout",
     "output_type": "stream",
     "text": [
      "0\n",
      "1\n",
      "2\n"
     ]
    }
   ],
   "execution_count": 12
  },
  {
   "cell_type": "markdown",
   "metadata": {},
   "source": [
    "Combining yields"
   ]
  },
  {
   "cell_type": "code",
   "metadata": {
    "ExecuteTime": {
     "end_time": "2024-08-08T19:14:05.065466Z",
     "start_time": "2024-08-08T19:14:05.063056Z"
    }
   },
   "source": [
    "def create_generator_outer():\n",
    "    for i in range(3):\n",
    "        yield i, create_generator()\n",
    "\n",
    "\n",
    "for i, g in create_generator_outer():\n",
    "    for j in g:\n",
    "        print('%i %i' % (i, j))"
   ],
   "outputs": [
    {
     "name": "stdout",
     "output_type": "stream",
     "text": [
      "0 0\n",
      "0 1\n",
      "0 2\n",
      "1 0\n",
      "1 1\n",
      "1 2\n",
      "2 0\n",
      "2 1\n",
      "2 2\n"
     ]
    }
   ],
   "execution_count": 13
  },
  {
   "cell_type": "markdown",
   "metadata": {},
   "source": [
    "# Basic examples"
   ]
  },
  {
   "cell_type": "markdown",
   "metadata": {},
   "source": [
    "## Timeout event"
   ]
  },
  {
   "cell_type": "markdown",
   "metadata": {},
   "source": [
    "`env.timeout(delay)` adds a timeout event to the scheduler that happens after the delay."
   ]
  },
  {
   "cell_type": "code",
   "metadata": {
    "ExecuteTime": {
     "end_time": "2024-08-08T19:15:04.749645Z",
     "start_time": "2024-08-08T19:15:04.746743Z"
    }
   },
   "source": [
    "counter = defaultdict(int)\n",
    "\n",
    "\n",
    "def clock(env, name, rate):\n",
    "    while True:\n",
    "        counter[name] += 1\n",
    "        yield env.timeout(np.random.geometric(rate))\n",
    "        print(name)\n",
    "\n",
    "\n",
    "env = simpy.Environment()\n",
    "env.process(clock(env, 'fast', 0.5))\n",
    "env.process(clock(env, 'slow', 0.2))\n",
    "env.run(until=10)\n",
    "print(dict(counter))"
   ],
   "outputs": [
    {
     "name": "stdout",
     "output_type": "stream",
     "text": [
      "slow\n",
      "fast\n",
      "fast\n",
      "slow\n",
      "fast\n",
      "{'fast': 4, 'slow': 3}\n"
     ]
    }
   ],
   "execution_count": 18
  },
  {
   "cell_type": "markdown",
   "metadata": {},
   "source": [
    "## Processes\n",
    "\n",
    "- A process defines a sequence of events.\n",
    "- A process is an event => we can wait for processes to finish."
   ]
  },
  {
   "cell_type": "code",
   "metadata": {
    "ExecuteTime": {
     "end_time": "2024-08-08T19:15:12.046225Z",
     "start_time": "2024-08-08T19:15:12.042319Z"
    }
   },
   "source": [
    "def process_1(env):\n",
    "    while True:\n",
    "        print('t_%d: Hi from P1' % env.now)\n",
    "        yield env.timeout(3)\n",
    "        yield env.process(process_2(env))\n",
    "\n",
    "\n",
    "def process_2(env):\n",
    "    while True:\n",
    "        print('t_%d: Hi from P2' % env.now)\n",
    "        yield env.timeout(1)\n",
    "        yield env.process(process_1(env))\n",
    "\n",
    "\n",
    "env = simpy.Environment()\n",
    "env.process(process_2(env))\n",
    "env.run(until=10)"
   ],
   "outputs": [
    {
     "name": "stdout",
     "output_type": "stream",
     "text": [
      "t_0: Hi from P2\n",
      "t_1: Hi from P1\n",
      "t_4: Hi from P2\n",
      "t_5: Hi from P1\n",
      "t_8: Hi from P2\n",
      "t_9: Hi from P1\n"
     ]
    }
   ],
   "execution_count": 19
  },
  {
   "cell_type": "markdown",
   "metadata": {},
   "source": [
    "## Queue"
   ]
  },
  {
   "cell_type": "code",
   "metadata": {
    "ExecuteTime": {
     "end_time": "2024-08-08T19:15:22.019063Z",
     "start_time": "2024-08-08T19:15:22.008661Z"
    }
   },
   "source": [
    "queue = []\n",
    "idle = True\n",
    "customer_number = 0\n",
    "\n",
    "avg_inter_arrival_time = 5\n",
    "avg_service_duration = 7\n",
    "\n",
    "waiting_times = []\n",
    "\n",
    "\n",
    "class Customer:\n",
    "    next_id = 0\n",
    "\n",
    "    def __init__(self, arrival_time):\n",
    "        self.name = 'C_%d' % Customer.next_id\n",
    "        Customer.next_id += 1\n",
    "        self.arrival_time = arrival_time\n",
    "\n",
    "    def departure(self, departure_time):\n",
    "        self.departure_time = departure_time\n",
    "        waiting_times.append(departure_time - self.arrival_time)\n",
    "\n",
    "    def __str__(self):\n",
    "        return self.name\n",
    "\n",
    "\n",
    "def serve():\n",
    "    global idle\n",
    "\n",
    "    idle = False\n",
    "    service_duration = np.random.geometric(1.0 / avg_service_duration)\n",
    "    print('%d: serve %s for %s periods' % (env.now, queue[0], service_duration))\n",
    "    yield env.timeout(service_duration)\n",
    "\n",
    "    # Customer departure\n",
    "    customer = queue.pop(0)\n",
    "    customer.departure(env.now)\n",
    "    print('%d: departure of %s, queue length is %d' % (env.now, customer, len(queue)))\n",
    "\n",
    "    # Continue working or sleep\n",
    "    if len(queue) == 0:\n",
    "        idle = True  # queue empty - going to sleep\n",
    "    else:\n",
    "        yield env.process(serve())  # serve another customer\n",
    "\n",
    "\n",
    "def arrival():\n",
    "    while True:\n",
    "        customer = Customer(env.now)\n",
    "        queue.append(customer)\n",
    "        print('%d: arrival of %s, queue length is %d' % (env.now, customer, len(queue)))\n",
    "\n",
    "        if idle:\n",
    "            env.process(serve())\n",
    "\n",
    "        inter_arrival_time = np.random.geometric(1.0 / avg_inter_arrival_time)\n",
    "        yield env.timeout(inter_arrival_time)\n",
    "\n",
    "\n",
    "env = simpy.Environment()\n",
    "env.process(arrival())\n",
    "env.run(until=50)\n",
    "print()\n",
    "print('Final queue length is %d' % len(queue))\n",
    "print(pd.Series(waiting_times).describe())"
   ],
   "outputs": [
    {
     "name": "stdout",
     "output_type": "stream",
     "text": [
      "0: arrival of C_0, queue length is 1\n",
      "0: serve C_0 for 7 periods\n",
      "7: departure of C_0, queue length is 0\n",
      "12: arrival of C_1, queue length is 1\n",
      "12: serve C_1 for 3 periods\n",
      "15: departure of C_1, queue length is 0\n",
      "25: arrival of C_2, queue length is 1\n",
      "25: serve C_2 for 9 periods\n",
      "28: arrival of C_3, queue length is 2\n",
      "31: arrival of C_4, queue length is 3\n",
      "34: departure of C_2, queue length is 2\n",
      "34: serve C_3 for 5 periods\n",
      "37: arrival of C_5, queue length is 3\n",
      "39: departure of C_3, queue length is 2\n",
      "39: serve C_4 for 1 periods\n",
      "40: departure of C_4, queue length is 1\n",
      "40: serve C_5 for 5 periods\n",
      "45: departure of C_5, queue length is 0\n",
      "47: arrival of C_6, queue length is 1\n",
      "47: serve C_6 for 2 periods\n",
      "49: arrival of C_7, queue length is 2\n",
      "49: departure of C_6, queue length is 1\n",
      "49: serve C_7 for 9 periods\n",
      "\n",
      "Final queue length is 1\n",
      "count     7.000000\n",
      "mean      7.000000\n",
      "std       3.316625\n",
      "min       2.000000\n",
      "25%       5.000000\n",
      "50%       8.000000\n",
      "75%       9.000000\n",
      "max      11.000000\n",
      "dtype: float64\n"
     ]
    }
   ],
   "execution_count": 20
  },
  {
   "cell_type": "markdown",
   "metadata": {},
   "source": [
    "# Events"
   ]
  },
  {
   "cell_type": "markdown",
   "metadata": {},
   "source": [
    "## Callback\n",
    "\n",
    "A callback is attached to an event and triggered after the event."
   ]
  },
  {
   "cell_type": "code",
   "metadata": {
    "ExecuteTime": {
     "end_time": "2024-08-08T19:19:03.047724Z",
     "start_time": "2024-08-08T19:19:03.044519Z"
    }
   },
   "source": [
    "env = simpy.Environment()\n",
    "\n",
    "\n",
    "def my_callback(event):\n",
    "    print('Callback')\n",
    "    print(event)\n",
    "\n",
    "\n",
    "def my_process():\n",
    "    event = env.event()\n",
    "    event.callbacks.append(my_callback)\n",
    "    yield event.succeed()\n",
    "    print('Done')\n",
    "\n",
    "\n",
    "env.process(my_process())\n",
    "env.run(until=10)"
   ],
   "outputs": [
    {
     "name": "stdout",
     "output_type": "stream",
     "text": [
      "Callback\n",
      "<Event() object at 0x117872c10>\n",
      "Done\n"
     ]
    }
   ],
   "execution_count": 25
  },
  {
   "cell_type": "markdown",
   "metadata": {},
   "source": [
    "## Example usages for event"
   ]
  },
  {
   "cell_type": "code",
   "metadata": {
    "ExecuteTime": {
     "end_time": "2024-08-08T19:19:31.962901Z",
     "start_time": "2024-08-08T19:19:31.957425Z"
    }
   },
   "source": [
    "env = simpy.Environment()\n",
    "\n",
    "\n",
    "class School:\n",
    "    def __init__(self):\n",
    "        self.class_ends = env.event()\n",
    "        self.bell_proc = env.process(self.bell())\n",
    "        self.pupil_procs = [env.process(self.pupil()) for i in range(3)]\n",
    "\n",
    "    def bell(self):\n",
    "        for i in range(2):\n",
    "            yield env.timeout(45)\n",
    "            self.class_ends.succeed()  # end class\n",
    "            print('%d: Class ended' % env.now)\n",
    "            self.class_ends = env.event()\n",
    "\n",
    "    def pupil(self):\n",
    "        while True:\n",
    "            yield self.class_ends  # this event is shared!\n",
    "            print(r' \\o/')\n",
    "\n",
    "\n",
    "school = School()\n",
    "env.run(until=1000)"
   ],
   "outputs": [
    {
     "name": "stdout",
     "output_type": "stream",
     "text": [
      "45: Class ended\n",
      " \\o/\n",
      " \\o/\n",
      " \\o/\n",
      "90: Class ended\n",
      " \\o/\n",
      " \\o/\n",
      " \\o/\n"
     ]
    }
   ],
   "execution_count": 26
  },
  {
   "cell_type": "markdown",
   "metadata": {},
   "source": [
    "## Processes are events"
   ]
  },
  {
   "cell_type": "code",
   "execution_count": null,
   "metadata": {},
   "source": [
    "env = simpy.Environment()\n",
    "\n",
    "\n",
    "def sub():\n",
    "    yield env.timeout(1)\n",
    "    return 23\n",
    "\n",
    "\n",
    "def parent():\n",
    "    ret = yield env.process(sub())\n",
    "    return ret\n",
    "\n",
    "\n",
    "env.run(env.process(parent()))"
   ],
   "outputs": []
  },
  {
   "cell_type": "markdown",
   "metadata": {},
   "source": [
    "## Waiting for multiple events"
   ]
  },
  {
   "cell_type": "code",
   "execution_count": null,
   "metadata": {},
   "source": [
    "env = simpy.Environment()\n",
    "\n",
    "\n",
    "def test_or():\n",
    "    t1, t2 = env.timeout(1, value='spam'), env.timeout(2, value='eggs')\n",
    "    ret = yield t1 | t2\n",
    "\n",
    "    assert ret == {t1: 'spam'}  # spam is triggered first\n",
    "    assert env.now == 1\n",
    "\n",
    "\n",
    "def test_and():\n",
    "    t1, t2 = env.timeout(1, value='spam'), env.timeout(2, value='eggs')\n",
    "    ret = yield t1 & t2\n",
    "\n",
    "    assert ret == {t1: 'spam', t2: 'eggs'}\n",
    "    assert env.now == 2\n",
    "\n",
    "\n",
    "env.process(test_or())\n",
    "env.process(test_and())\n",
    "env.run()"
   ],
   "outputs": []
  },
  {
   "cell_type": "markdown",
   "metadata": {},
   "source": [
    "**Events at the same time**"
   ]
  },
  {
   "cell_type": "code",
   "execution_count": null,
   "metadata": {},
   "source": [
    "env = simpy.Environment()\n",
    "\n",
    "\n",
    "def test_or():\n",
    "    t1, t2 = env.timeout(1, value='spam'), env.timeout(1, value='eggs')\n",
    "    ret = yield t1 | t2\n",
    "    print(len(list(ret.items())))\n",
    "    print(ret)\n",
    "\n",
    "\n",
    "proc = env.process(test_or())\n",
    "env.run()"
   ],
   "outputs": []
  },
  {
   "cell_type": "markdown",
   "metadata": {},
   "source": [
    "## Wait for a timeout OR until a trigger is activated"
   ]
  },
  {
   "cell_type": "code",
   "execution_count": null,
   "metadata": {},
   "source": [
    "env = simpy.Environment()\n",
    "\n",
    "\n",
    "class Team:\n",
    "\n",
    "    def repair(self):\n",
    "        repaired = env.timeout(10)\n",
    "        self.interrupted = env.event()  # used to trigger interruption\n",
    "        ret = yield self.interrupted | repaired\n",
    "\n",
    "        if repaired in ret:\n",
    "            print('repaired')\n",
    "        if self.interrupted in ret:\n",
    "            print('interrupted')\n",
    "\n",
    "\n",
    "def interrupt(team):\n",
    "    yield env.timeout(10)\n",
    "    team.interrupted.succeed()  # pull trigger\n",
    "\n",
    "\n",
    "team = Team()\n",
    "env.process(team.repair())\n",
    "env.process(interrupt(team))\n",
    "env.run()"
   ],
   "outputs": []
  },
  {
   "cell_type": "markdown",
   "metadata": {},
   "source": [
    "Careful when the events occur at the exact same time!\n",
    "\n",
    "- It may be, that both events are in ret or only one. \n",
    "- It depands also on the order of scheduling processes.\n",
    "\n",
    "=> Process interruption is more predictable, as interrupts are prioritized!"
   ]
  },
  {
   "cell_type": "markdown",
   "metadata": {},
   "source": [
    "## Events at the same time\n",
    "\n",
    "Interrupts and process initialization events are priorized over other events, if they occur at the same time.\n",
    "\n",
    "If the priorititzation is the same, the one that was added first to the scheduler is executed first."
   ]
  },
  {
   "cell_type": "code",
   "execution_count": null,
   "metadata": {},
   "source": [
    "env = simpy.Environment()\n",
    "\n",
    "\n",
    "class A:\n",
    "\n",
    "    def __init__(self):\n",
    "        env.process(self.proc1())\n",
    "        env.process(self.proc2())\n",
    "\n",
    "    def proc1(self):\n",
    "        yield env.timeout(10)\n",
    "        print('1st')\n",
    "        env.process(self.another_proc())\n",
    "\n",
    "    def proc2(self):\n",
    "        yield env.timeout(10)\n",
    "        print('3rd')\n",
    "\n",
    "    def another_proc(self):\n",
    "        print('2nd')\n",
    "        yield env.timeout(1)\n",
    "\n",
    "\n",
    "a = A()\n",
    "env.run()"
   ],
   "outputs": []
  },
  {
   "cell_type": "markdown",
   "metadata": {},
   "source": [
    "## Event fail\n",
    "\n",
    "TODO"
   ]
  },
  {
   "cell_type": "code",
   "execution_count": null,
   "metadata": {},
   "source": [
    "\n",
    "\n",
    "\n",
    "env = simpy.Environment()\n",
    "\n",
    "\n",
    "class A:\n",
    "\n",
    "    def __init__(self):\n",
    "        env.process(self.proc2())\n",
    "        env.process(self.proc1())\n",
    "\n",
    "    def proc1(self):\n",
    "        self.to = env.timeout(10)\n",
    "        self.trigger = env.event()\n",
    "        ret = yield self.to | self.trigger\n",
    "        print(ret)\n",
    "\n",
    "        if self.to in ret:\n",
    "            print('TO')\n",
    "\n",
    "        if self.trigger in ret:\n",
    "            print('TR')\n",
    "\n",
    "    def proc2(self):\n",
    "        yield env.timeout(9)\n",
    "        self.trigger.succeed()\n",
    "\n",
    "\n",
    "a = A()\n",
    "env.run()"
   ],
   "outputs": []
  },
  {
   "cell_type": "markdown",
   "metadata": {},
   "source": [
    "# Process Interaction"
   ]
  },
  {
   "cell_type": "markdown",
   "metadata": {},
   "source": [
    "## Sleep until woken up"
   ]
  },
  {
   "cell_type": "code",
   "execution_count": null,
   "metadata": {},
   "source": [
    "env = simpy.Environment()\n",
    "my_trigger = env.event()\n",
    "\n",
    "\n",
    "def my_process():\n",
    "    print('Start process')\n",
    "    yield my_trigger\n",
    "    print('Triggered at %d' % env.now)\n",
    "\n",
    "\n",
    "def pull_trigger():\n",
    "    yield env.timeout(17)\n",
    "    print('Pull trigger')\n",
    "    my_trigger.succeed()\n",
    "\n",
    "\n",
    "env.process(my_process())\n",
    "env.process(pull_trigger())\n",
    "env.run(until=100)\n"
   ],
   "outputs": []
  },
  {
   "cell_type": "code",
   "execution_count": null,
   "source": [
    "# Sleep until woken up OR sth. else happens\n",
    "\n",
    "env = simpy.Environment()\n",
    "my_trigger = env.event()\n",
    "\n",
    "\n",
    "def delay_process_1():\n",
    "    yield env.timeout(11)\n",
    "    print('Delay 1')\n",
    "\n",
    "\n",
    "def delay_process_2():\n",
    "    yield env.timeout(17)\n",
    "    print('Delay 2')\n",
    "\n",
    "\n",
    "def my_process():\n",
    "    print('Start process')\n",
    "    delay = env.process(delay_process())\n",
    "    trigger = env.process(trigger_process())\n",
    "    yield trigger | delay\n",
    "    if delay.triggered:\n",
    "        print('Random_delay at %d' % env.now)\n",
    "        trigger.interrupt()\n",
    "    if trigger.triggered:\n",
    "        print('Trigger pulled at %d' % env.now)\n",
    "        #random_delay.interrupt()\n",
    "    print('Done at %d' % env.now)\n",
    "\n",
    "\n",
    "env.process(my_process())\n",
    "trigger_process = env.process(pull_trigger())\n",
    "env.run(until=100)"
   ],
   "metadata": {
    "collapsed": false
   },
   "outputs": []
  },
  {
   "cell_type": "markdown",
   "source": [
    "## Interrupt a process\n",
    "\n",
    "We wait for one of two events:\n",
    " \n",
    "+ parking is finished, or\n",
    "+ charging is finished.  \n",
    "\n",
    "If parking is finished before charging, the charging process is interrupted. \n"
   ],
   "metadata": {
    "collapsed": false
   }
  },
  {
   "cell_type": "code",
   "execution_count": null,
   "source": [
    "class EV:\n",
    "    \"\"\" An electric vehicle \"\"\"\n",
    "\n",
    "    def __init__(self, env):\n",
    "        self.env = env\n",
    "        self.drive_proc = env.process(self.drive())\n",
    "\n",
    "    def drive(self):\n",
    "        \"\"\" Alternate between: drive for a while, then park and charge. \"\"\"\n",
    "        while True:\n",
    "            # Drive\n",
    "            yield self.env.timeout(20)\n",
    "\n",
    "            # Park \n",
    "            print('%d: start parking at' % self.env.now)\n",
    "            charging = self.env.process(self.charge_battery())\n",
    "            parking = self.env.timeout(60)\n",
    "            yield charging | parking\n",
    "\n",
    "            if not charging.triggered:\n",
    "                charging.interrupt('need to go!')\n",
    "\n",
    "            print('%d: stop parking' % self.env.now)\n",
    "\n",
    "    def charge_battery(self):\n",
    "        print('%d: charging started' % self.env.now)\n",
    "        try:\n",
    "            yield self.env.timeout(70)  # takes longer than parking\n",
    "            print('%d: battery charged' % self.env.now)\n",
    "        except simpy.Interrupt as i:\n",
    "            # Got interrupted before the charging was done.\n",
    "            print('%d: charging interrupted, cause: %s' % (self.env.now, i.cause))\n",
    "\n",
    "\n",
    "env = simpy.Environment()\n",
    "ev = EV(env)\n",
    "env.run(until=100)"
   ],
   "metadata": {
    "collapsed": false
   },
   "outputs": []
  },
  {
   "metadata": {},
   "cell_type": "markdown",
   "source": [
    "# Rolling planning example\n",
    "\n",
    "There is a list of tasks. \n",
    "A plan is an ordered sequence of the tasks. \n",
    "We want to update the plan some time. \n",
    "However, we do not want to interrupt tasks. \n",
    "Therefore, we schedule tasks one-by-one. \n"
   ]
  },
  {
   "metadata": {
    "ExecuteTime": {
     "end_time": "2024-08-08T20:24:50.050993Z",
     "start_time": "2024-08-08T20:24:50.046585Z"
    }
   },
   "cell_type": "code",
   "source": [
    "@dataclass\n",
    "class Task:\n",
    "    id: int\n",
    "    duration: float\n",
    "\n",
    "\n",
    "plan = [Task(id=i, duration=10) for i in range(4)]\n",
    "\n",
    "\n",
    "def execute_task(env, task):\n",
    "    print(f\"{env.now:>4}: Execute task {task.id}\")\n",
    "    yield env.timeout(task.duration)\n",
    "    print(f\"{env.now:>4}: Completed task {task.id}\")\n",
    "\n",
    "\n",
    "def execute_plan(env, plan):\n",
    "    while len(plan):\n",
    "        t = plan.pop(0)\n",
    "        yield env.process(execute_task(env, t))\n",
    "\n",
    "\n",
    "def change_plan(env, plan, delay):\n",
    "    yield env.timeout(delay)\n",
    "    plan.reverse()\n",
    "\n",
    "\n",
    "env = simpy.Environment()\n",
    "env.process(execute_plan(env, plan))\n",
    "env.process(change_plan(env, plan, 5))\n",
    "env.run(until=100)"
   ],
   "outputs": [
    {
     "name": "stdout",
     "output_type": "stream",
     "text": [
      "   0: Execute task 0\n",
      "  10: Completed task 0\n",
      "  10: Execute task 3\n",
      "  20: Completed task 3\n",
      "  20: Execute task 2\n",
      "  30: Completed task 2\n",
      "  30: Execute task 1\n",
      "  40: Completed task 1\n"
     ]
    }
   ],
   "execution_count": 49
  },
  {
   "cell_type": "markdown",
   "source": [
    "# Turbine example"
   ],
   "metadata": {
    "collapsed": false
   }
  },
  {
   "cell_type": "markdown",
   "source": [
    "## Helper"
   ],
   "metadata": {
    "collapsed": false
   }
  },
  {
   "cell_type": "code",
   "execution_count": null,
   "source": [
    "def print_q(q):\n",
    "    lst = [i for i in q.queue]\n",
    "    lst.sort()\n",
    "    print(lst)"
   ],
   "metadata": {
    "collapsed": false
   },
   "outputs": []
  },
  {
   "cell_type": "markdown",
   "source": [
    "## Generate maintenance incidents\n",
    "\n",
    "- List with unscheduled incidents\n",
    "- List with scheduled services \n",
    "- Leave a gap of at least 3 periods corresponding to the repair time"
   ],
   "metadata": {
    "collapsed": false
   }
  },
  {
   "cell_type": "code",
   "execution_count": null,
   "source": [
    "def generate_incidents(prob, gap):\n",
    "    ret = []\n",
    "    i = 0\n",
    "    while i < 100:\n",
    "        if np.random.rand() < prob:\n",
    "            ret.append(i)\n",
    "            i += gap\n",
    "        else:\n",
    "            i += 1\n",
    "    return ret\n",
    "\n",
    "\n",
    "def generate_all():\n",
    "    # Unscheduled\n",
    "    global incidents\n",
    "    incidents = generate_incidents(0.1, 4)\n",
    "    print(incidents)\n",
    "\n",
    "    # Scheduled\n",
    "    global incidents_scheduled\n",
    "    incidents_scheduled = generate_incidents(0.05, 10)\n",
    "    print(incidents_scheduled)\n",
    "    global n_jobs\n",
    "    n_jobs = len(incidents) + len(incidents_scheduled)\n",
    "    print('# jobs =', n_jobs)"
   ],
   "metadata": {
    "collapsed": false
   },
   "outputs": []
  },
  {
   "cell_type": "markdown",
   "source": [
    "## Setup simulation"
   ],
   "metadata": {
    "collapsed": false
   }
  },
  {
   "cell_type": "code",
   "execution_count": null,
   "source": [
    "def setup_sim():\n",
    "    incident_q = PriorityQueue()\n",
    "    for i in incidents:\n",
    "        incident_q.put(i)\n",
    "    print_q(incident_q)\n",
    "\n",
    "    incidents_scheduled_q = incidents_scheduled.copy()\n",
    "    print(incidents_scheduled_q)\n",
    "\n",
    "    global env\n",
    "    env = simpy.Environment()\n",
    "    env.incidents = incident_q\n",
    "    env.incidents_scheduled = incidents_scheduled_q\n",
    "    env.until = 200\n",
    "    env.threshold = 4\n",
    "    print('Threshold =', env.threshold)\n",
    "\n",
    "    env.turbine = Turbine(env.incidents, env.incidents_scheduled)"
   ],
   "metadata": {
    "collapsed": false
   },
   "outputs": []
  },
  {
   "cell_type": "markdown",
   "source": [
    "## Job"
   ],
   "metadata": {
    "collapsed": false
   }
  },
  {
   "cell_type": "code",
   "execution_count": null,
   "source": [
    "class JobType(Enum):\n",
    "    SCHEDULED = 1\n",
    "    UNSCHEDULED = 2\n",
    "    MERGED = 3\n",
    "\n",
    "\n",
    "class Job():\n",
    "    next_id = 0\n",
    "\n",
    "    def __init__(self, job_type=JobType.UNSCHEDULED, next_process=None, info=''):\n",
    "        self.id = Job.next_id\n",
    "        Job.next_id += 1\n",
    "        self.t = env.now\n",
    "        self.job_type = job_type\n",
    "        self.next_process = next_process\n",
    "        self.info = info\n",
    "\n",
    "    def __str__(self):\n",
    "        return 'Job [id={}, t={}, job_type={}, next_process={}, info={}]'.format(\n",
    "            self.id, self.t, self.job_type, self.next_process, self.info)\n"
   ],
   "metadata": {
    "collapsed": false
   },
   "outputs": []
  },
  {
   "cell_type": "markdown",
   "source": [
    "## Turbine"
   ],
   "metadata": {
    "collapsed": false
   }
  },
  {
   "cell_type": "code",
   "execution_count": null,
   "source": [
    "class Turbine():\n",
    "\n",
    "    def __init__(self, incidents, incidents_scheduled):\n",
    "        \"\"\"\n",
    "        incidents: PriorityQueue\n",
    "        incidents_scheduled: list (sorted)\n",
    "        \"\"\"\n",
    "        self.incidents = incidents\n",
    "        self.incidents_scheduled = incidents_scheduled\n",
    "\n",
    "        # State\n",
    "        self.stop_switch = False\n",
    "        self.completed_scheduled_services = []\n",
    "        self.initiated_scheduled_services = []\n",
    "        self.completed_unscheduled_failures = []\n",
    "        self.initiated_unscheduled_failures = []\n",
    "\n",
    "        # Collector\n",
    "        self.job_log = []\n",
    "\n",
    "        # Processes\n",
    "        env.process(self.fail_process())\n",
    "        env.process(self.scheduled_maintenance_process())\n",
    "\n",
    "    def include(self, job):\n",
    "        if len(self.incidents_scheduled) == 0:  # no outstanding scheduled services left\n",
    "            return job\n",
    "\n",
    "        h = self.incidents_scheduled[0]\n",
    "        if h - env.now > threshold:\n",
    "            return job\n",
    "\n",
    "        return Job(job_type=JobType.MERGED, next_process='fail', info='%s+%s' % (job.t, h))\n",
    "\n",
    "    def fail_process(self):\n",
    "        #print('%d: Fail process' % (env.now))\n",
    "        next_dt = self.get_next_failure()\n",
    "        #print('%d: Next dt = %s' % (env.now, next_dt))\n",
    "        yield env.timeout(next_dt - env.now)\n",
    "\n",
    "        # Maintenance necessary\n",
    "        log = '%d: Failure' % env.now\n",
    "        job = Job(job_type=JobType.UNSCHEDULED, next_process='fail')\n",
    "        new_job = self.include(job)\n",
    "\n",
    "        if new_job == job:\n",
    "            log += ' - Not merged %s' % (job)\n",
    "            print(log)\n",
    "            env.process(self.repair_process(job))\n",
    "        else:\n",
    "            log += ' - Merged %s to %s' % (job, new_job)\n",
    "            print(log)\n",
    "            self.stop_switch = True\n",
    "            self.incidents_scheduled.pop(0)  # rm from list\n",
    "            self.initiated_scheduled_services.append(new_job.t)\n",
    "            env.process(self.repair_process(new_job))\n",
    "\n",
    "    def get_next_failure(self):\n",
    "        #print('%d: Get next failure' % (env.now))\n",
    "        next_dt = -1\n",
    "        while next_dt < env.now and self.incidents.qsize() > 0:\n",
    "            next_dt = self.incidents.get()\n",
    "        if next_dt < env.now:\n",
    "            return until + 1  # never\n",
    "        return next_dt\n",
    "\n",
    "    def repair_process(self, job):\n",
    "        #print('%d: Repair process, %s' % (env.now, job))\n",
    "        if job.job_type == JobType.MERGED:\n",
    "            yield env.timeout(4)\n",
    "        else:\n",
    "            yield env.timeout(3)\n",
    "\n",
    "        print('%d: Repaired, %s' % (env.now, job))\n",
    "        if job.job_type == JobType.SCHEDULED:\n",
    "            self.completed_scheduled_services.append(job)\n",
    "        if job.job_type == JobType.UNSCHEDULED:\n",
    "            self.completed_unscheduled_failures.append(job)\n",
    "\n",
    "        self.job_log.append(job)\n",
    "\n",
    "        # Start next process\n",
    "        if job.next_process is None:\n",
    "            return\n",
    "\n",
    "        if job.next_process == 'fail':\n",
    "            env.process(self.fail_process())\n",
    "            return\n",
    "\n",
    "        if job.next_process == 'scheduled':\n",
    "            # no need to start new process\n",
    "            return\n",
    "\n",
    "    def scheduled_maintenance_process(self):\n",
    "        #print('%d: Scheduled maintenance process' % (env.now))\n",
    "\n",
    "        if len(self.incidents_scheduled) == 0:\n",
    "            return  # terminate scheduled service process for good\n",
    "\n",
    "        next_scheduled_service = self.incidents_scheduled[0]\n",
    "        yield env.timeout(next_scheduled_service - env.now)\n",
    "\n",
    "        log = '%d: Time for scheduled maintenance' % (env.now)\n",
    "\n",
    "        if self.stop_switch:\n",
    "            log += ' - Already initiated'\n",
    "            print(log)\n",
    "            self.stop_switch = False\n",
    "            # already removed from list\n",
    "            # already added to initiated list\n",
    "            env.process(self.scheduled_maintenance_process())\n",
    "            return\n",
    "\n",
    "        self.incidents_scheduled.pop(0)  # Remove from the list\n",
    "        self.initiated_scheduled_services.append(next_scheduled_service)  # Add to initiated list\n",
    "\n",
    "        # Create and add job\n",
    "        job = Job(job_type=JobType.SCHEDULED)\n",
    "        log += ' - Initiated %s' % job\n",
    "        print(log)\n",
    "        env.process(self.repair_process(job))\n",
    "        env.process(self.scheduled_maintenance_process())\n",
    "\n",
    "    def __str__(self):\n",
    "        return self.name\n",
    "\n"
   ],
   "metadata": {
    "collapsed": false
   },
   "outputs": []
  },
  {
   "cell_type": "markdown",
   "source": [
    "## Check results"
   ],
   "metadata": {
    "collapsed": false
   }
  },
  {
   "cell_type": "code",
   "execution_count": null,
   "source": [
    "def check_result(env):\n",
    "    counter = 0\n",
    "    for job in env.turbine.job_log:\n",
    "        print(job)\n",
    "        counter += 1 if job.job_type != JobType.MERGED else 2\n",
    "    print('Counter =', counter, ', # jobs =', n_jobs)\n",
    "    assert counter == n_jobs"
   ],
   "metadata": {
    "collapsed": false
   },
   "outputs": []
  },
  {
   "cell_type": "markdown",
   "source": [
    "## Run"
   ],
   "metadata": {
    "collapsed": false
   }
  },
  {
   "cell_type": "code",
   "execution_count": null,
   "source": [
    "for i in range(20):\n",
    "    generate_all()\n",
    "    setup_sim()\n",
    "    env.run(until=env.until)\n",
    "    check_result(env)"
   ],
   "metadata": {
    "collapsed": false
   },
   "outputs": []
  },
  {
   "cell_type": "markdown",
   "source": [
    "## Single run"
   ],
   "metadata": {
    "collapsed": false
   }
  },
  {
   "cell_type": "code",
   "execution_count": null,
   "source": [
    "setup_sim()\n",
    "env.run(until=env.until)\n",
    "check_result(env)"
   ],
   "metadata": {
    "collapsed": false
   },
   "outputs": []
  },
  {
   "cell_type": "markdown",
   "source": [
    "# Shared resource\n"
   ],
   "metadata": {
    "collapsed": false
   }
  },
  {
   "cell_type": "code",
   "execution_count": null,
   "metadata": {},
   "source": [
    "import threading\n",
    "import simpy\n",
    "\n",
    "env = simpy.Environment()\n",
    "\n",
    "\n",
    "class TechPool:\n",
    "\n",
    "    def __init__(self, tech_count):\n",
    "        self.tech_count = tech_count\n",
    "\n",
    "        # State\n",
    "        self.available_tech_count = tech_count\n",
    "        self.lock = threading.Lock()\n",
    "\n",
    "    def get_techs(self, n, who='?'):\n",
    "        self.lock.acquire()\n",
    "        if n > self.available_tech_count:\n",
    "            raise Exception('Not enough techs')\n",
    "        self.available_tech_count -= n\n",
    "        print(env.now, 'TechPool - %d for %s = %d' % (n, who, self.available_tech_count))\n",
    "        self.lock.release()\n",
    "        return n\n",
    "\n",
    "\n",
    "def process_1(pool):\n",
    "    print('Start process 1')\n",
    "    yield env.timeout(1)\n",
    "    print('Get 1')\n",
    "    pool.get_techs(1)\n",
    "\n",
    "\n",
    "def process_2(pool):\n",
    "    print('Start process 2')\n",
    "    yield env.timeout(1)\n",
    "    print('Get 2')\n",
    "    pool.get_techs(2)\n",
    "\n",
    "\n",
    "pool = TechPool(3)\n",
    "env.process(process_1(pool))\n",
    "env.process(process_2(pool))\n",
    "env.run(until=100)\n"
   ],
   "outputs": []
  },
  {
   "cell_type": "code",
   "execution_count": null,
   "source": [],
   "metadata": {
    "collapsed": false
   },
   "outputs": []
  }
 ],
 "metadata": {
  "kernelspec": {
   "display_name": "Python 3",
   "language": "python",
   "name": "python3"
  },
  "language_info": {
   "codemirror_mode": {
    "name": "ipython",
    "version": 3
   },
   "file_extension": ".py",
   "mimetype": "text/x-python",
   "name": "python",
   "nbconvert_exporter": "python",
   "pygments_lexer": "ipython3",
   "version": "3.7.8"
  },
  "toc-autonumbering": true
 },
 "nbformat": 4,
 "nbformat_minor": 4
}
