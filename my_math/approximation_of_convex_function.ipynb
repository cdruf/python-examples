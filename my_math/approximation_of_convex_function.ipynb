{
 "cells": [
  {
   "cell_type": "code",
   "execution_count": 5,
   "id": "a1f27825-68cc-41f5-9bc9-460995f80080",
   "metadata": {},
   "source": [
    "import numpy as np\n",
    "import pandas as pd\n",
    "import matplotlib.pyplot as plt\n",
    "import matplotlib\n",
    "\n",
    "matplotlib.rcParams['figure.figsize'] = [15,12]\n",
    "font = {'size': 22}\n",
    "matplotlib.rc('font', **font)"
   ],
   "outputs": []
  },
  {
   "cell_type": "code",
   "execution_count": 6,
   "id": "1cbfc285-faef-4f0f-9786-adce6fd581fb",
   "metadata": {},
   "source": [
    "K = 12\n",
    "shift = 3\n",
    "fkt = lambda x: K*((x-shift)/K)**3\n",
    "\n",
    "n_segments = 3\n",
    "step = K // n_segments\n",
    "points = [(0,0)]\n",
    "for i in range(0, n_segments+1):\n",
    "    x = i*step + shift\n",
    "    y = fkt(x)\n",
    "    points.append((x,y))\n",
    "\n",
    "print(points)\n",
    "    \n",
    "\n",
    "tmp = list(zip(*points))\n",
    "xs_lin = tmp[0]\n",
    "ys_lin = tmp[1]\n",
    "\n",
    "\n",
    "params = []\n",
    "for idx, (px,py) in enumerate(points[1:]):\n",
    "    prev_x, prev_y = points[idx]\n",
    "    m = (py-prev_y) / (px-prev_x)\n",
    "    c = py - m * px\n",
    "    params.append((m,c))\n",
    "\n",
    "\n",
    "def fkt_lin(x):\n",
    "    for idx, (px,py) in enumerate(points[1:]):\n",
    "        prev_x, prev_y = points[idx]\n",
    "        if prev_x <= x <= px:\n",
    "            m, c = params[idx]\n",
    "            return m*x+c\n"
   ],
   "outputs": []
  },
  {
   "cell_type": "code",
   "execution_count": 7,
   "id": "0a857599-9abd-40d5-9242-5a490698d4db",
   "metadata": {},
   "source": [
    "xs = np.linspace(0, K+shift, 1000)\n",
    "ys = fkt(xs)\n",
    "plt.plot(xs, ys, linewidth=5, alpha=0.9)\n",
    "plt.plot(xs_lin, ys_lin, linewidth=3, alpha=0.7)\n",
    "\n",
    "for x,y in points:\n",
    "    plt.plot([x, x], [0, y], 'g:')\n",
    "\n",
    "plt.xlim(0,K+shift)\n",
    "plt.ylim(0,K)\n",
    "\n",
    "plt.fill_between(xs, fkt(xs), [fkt_lin(x) for x in xs], facecolor='lightgrey')\n",
    "\n",
    "\n",
    "plt.xlabel('$x$')\n",
    "plt.ylabel('Penalty')\n",
    "plt.title('Approximation of a convex & non-affine penalty function')\n",
    "\n",
    "#plt.grid(True)\n",
    "plt.savefig('my_function.png')\n",
    "plt.show()"
   ],
   "outputs": []
  },
  {
   "cell_type": "markdown",
   "id": "8f794b32-73a3-4eb4-901e-409ebc682c22",
   "metadata": {},
   "source": [
    "# Ohne Zahlen"
   ]
  },
  {
   "cell_type": "code",
   "execution_count": 32,
   "id": "31786ace-b6a2-48d2-bdb2-9a9eaac1f753",
   "metadata": {},
   "source": [
    "xs = np.linspace(shift, K+shift, 1000)\n",
    "ys = fkt(xs)\n",
    "\n",
    "tmp = list(zip(*points))\n",
    "xs_lin = tmp[0][1:]\n",
    "ys_lin = tmp[1][1:]\n",
    "\n",
    "plt.plot(xs, ys, linewidth=5, alpha=0.9)\n",
    "plt.plot(xs_lin, ys_lin, linewidth=3, alpha=0.7)\n",
    "\n",
    "\n",
    "for idx, (x,y) in enumerate(points[1:]):\n",
    "    plt.plot([x, x], [0, y], 'g:')\n",
    "    plt.text(x, -0.3, f\"$x_{idx}$\", fontsize=16, \n",
    "             horizontalalignment='center')\n",
    "\n",
    "plt.xlim(0,K+shift)\n",
    "plt.ylim(0,K)\n",
    "\n",
    "plt.fill_between(xs, fkt(xs), [fkt_lin(x) for x in xs], facecolor='lightgrey')\n",
    "\n",
    "\n",
    "plt.xlabel('$x$', labelpad=25)\n",
    "plt.ylabel('Penalty')\n",
    "plt.title('Approximation of a convex & non-affine penalty function')\n",
    "\n",
    "plt.tick_params(\n",
    "    axis='both',          # changes apply to the x-axis\n",
    "    which='both',      # both major and minor ticks are affected\n",
    "    bottom=False,      \n",
    "    top=False,         \n",
    "    left=False,\n",
    "    right=False,\n",
    "    labelbottom=False,\n",
    "    labelleft=False) \n",
    "\n",
    "plt.tight_layout()\n",
    "plt.savefig('my_function.png')\n",
    "plt.show()"
   ],
   "outputs": []
  },
  {
   "cell_type": "markdown",
   "id": "5a836be8-fc66-409f-b324-c97b9128aacf",
   "metadata": {},
   "source": [
    "# ..."
   ]
  }
 ],
 "metadata": {
  "kernelspec": {
   "display_name": "Python 3 (ipykernel)",
   "language": "python",
   "name": "python3"
  },
  "language_info": {
   "codemirror_mode": {
    "name": "ipython",
    "version": 3
   },
   "file_extension": ".py",
   "mimetype": "text/x-python",
   "name": "python",
   "nbconvert_exporter": "python",
   "pygments_lexer": "ipython3",
   "version": "3.10.6"
  }
 },
 "nbformat": 4,
 "nbformat_minor": 5
}
