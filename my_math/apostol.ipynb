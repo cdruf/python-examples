{
 "cells": [
  {
   "metadata": {
    "ExecuteTime": {
     "end_time": "2024-09-13T23:29:52.205119Z",
     "start_time": "2024-09-13T23:29:50.620444Z"
    }
   },
   "cell_type": "code",
   "source": [
    "import numpy as np\n",
    "\n",
    "from util.math_helper import eq\n"
   ],
   "id": "afcd7a8b09900f6f",
   "outputs": [],
   "execution_count": 7
  },
  {
   "metadata": {},
   "cell_type": "markdown",
   "source": "# Method of exhaustion",
   "id": "292bff0c4a8eb0d1"
  },
  {
   "metadata": {
    "ExecuteTime": {
     "end_time": "2024-09-13T23:28:29.152255Z",
     "start_time": "2024-09-13T23:28:29.149223Z"
    }
   },
   "cell_type": "code",
   "source": [
    "def get_area(fkt, a, b, eps=0.01):\n",
    "    intervall_size = (b - a) / 1\n",
    "    ober_summe = 100000\n",
    "    unter_summe = 0\n",
    "    while ober_summe - unter_summe > eps:\n",
    "        intervall_size /= 100\n",
    "        xs = np.arange(a, b, intervall_size)\n",
    "        unter_summe = (fkt(xs) * intervall_size).sum()\n",
    "        ober_summe = (fkt(xs + intervall_size) * intervall_size).sum()\n",
    "    return (ober_summe + unter_summe) / 2"
   ],
   "id": "bd60dea3071f298d",
   "outputs": [],
   "execution_count": 5
  },
  {
   "metadata": {},
   "cell_type": "markdown",
   "source": "## Tests",
   "id": "3938d43bf31bf121"
  },
  {
   "metadata": {
    "ExecuteTime": {
     "end_time": "2024-09-16T20:51:14.668034Z",
     "start_time": "2024-09-16T20:51:14.660146Z"
    }
   },
   "cell_type": "code",
   "source": [
    "EPS = 1\n",
    "\n",
    "# x^2 \n",
    "result = get_area(lambda x: x ** 2, 0, 3)\n",
    "print(f\"x^2 von 0 bis 3 = {result:0.6f}\")\n",
    "assert eq(result, 9, tolerance=EPS)  # 3^3/3 = 9\n",
    "\n",
    "# x^3\n",
    "result = get_area(lambda x: x ** 3, 2, 3)\n",
    "print(f\"x^3 von 2 bis 3 = {result:0.6f}\")\n",
    "assert eq(result, 3 ** 4 / 4 - 2 ** 4 / 4, tolerance=EPS)\n"
   ],
   "id": "334b64f0258ea0f7",
   "outputs": [
    {
     "name": "stdout",
     "output_type": "stream",
     "text": [
      "x^2 von 0 bis 3 = 9.000000\n",
      "x^3 von 2 bis 3 = 16.250000\n"
     ]
    }
   ],
   "execution_count": 16
  },
  {
   "metadata": {},
   "cell_type": "code",
   "outputs": [],
   "execution_count": null,
   "source": "",
   "id": "8435e3b5ddc1f0f9"
  }
 ],
 "metadata": {
  "kernelspec": {
   "display_name": "Python 3",
   "language": "python",
   "name": "python3"
  },
  "language_info": {
   "codemirror_mode": {
    "name": "ipython",
    "version": 2
   },
   "file_extension": ".py",
   "mimetype": "text/x-python",
   "name": "python",
   "nbconvert_exporter": "python",
   "pygments_lexer": "ipython2",
   "version": "2.7.6"
  }
 },
 "nbformat": 4,
 "nbformat_minor": 5
}
